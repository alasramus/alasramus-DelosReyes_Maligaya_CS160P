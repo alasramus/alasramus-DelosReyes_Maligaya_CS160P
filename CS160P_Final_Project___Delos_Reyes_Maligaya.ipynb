{
  "cells": [
    {
      "cell_type": "markdown",
      "metadata": {
        "id": "view-in-github",
        "colab_type": "text"
      },
      "source": [
        "<a href=\"https://colab.research.google.com/github/alasramus/alasramus-DelosReyes_Maligaya_CS160P/blob/main/CS160P_Final_Project___Delos_Reyes_Maligaya.ipynb\" target=\"_parent\"><img src=\"https://colab.research.google.com/assets/colab-badge.svg\" alt=\"Open In Colab\"/></a>"
      ]
    },
    {
      "cell_type": "code",
      "execution_count": null,
      "id": "26ea83fb",
      "metadata": {
        "id": "26ea83fb"
      },
      "outputs": [],
      "source": [
        "#CS160P Final Project - Delos Reyes & Maligaya\n",
        "\n",
        "#This project uses ESSAY SET 2 from the dataset.  \n",
        "\n",
        "# TESTING MODELS:\n",
        "# BOW - Linear and Lasso Regression \n",
        "# BOW + rest of the features - Linear, Ridge and Lasso Regression\n",
        "# Only 10 numerical/POS/orthographic features - Linear, Ridge, Lasso and Support Vector Regression "
      ]
    },
    {
      "cell_type": "code",
      "execution_count": null,
      "id": "7dd55fee",
      "metadata": {
        "id": "7dd55fee"
      },
      "outputs": [],
      "source": [
        "#Importing necessary packages:\n",
        "\n",
        "import pandas as pd\n",
        "import numpy as np\n",
        "import matplotlib.pyplot as plt\n",
        "import pickle\n",
        "%matplotlib inline\n",
        "\n",
        "import nltk\n",
        "from nltk.stem import WordNetLemmatizer\n",
        "from nltk.corpus import wordnet\n",
        "\n",
        "import re, collections\n",
        "from collections import defaultdict\n",
        "\n",
        "from sklearn.feature_extraction.text import CountVectorizer\n",
        "from sklearn.metrics import mean_squared_error, r2_score, cohen_kappa_score\n",
        "from sklearn.model_selection import train_test_split, GridSearchCV\n",
        "from sklearn.linear_model import LinearRegression, Ridge, Lasso\n",
        "from sklearn.svm import SVR\n",
        "from sklearn import ensemble\n"
      ]
    },
    {
      "cell_type": "code",
      "execution_count": null,
      "id": "6a2927f6",
      "metadata": {
        "id": "6a2927f6",
        "colab": {
          "base_uri": "https://localhost:8080/",
          "height": 268
        },
        "outputId": "b3ed59ed-cc8b-4a55-9080-8baf1b6c7abe"
      },
      "outputs": [
        {
          "output_type": "error",
          "ename": "ParserError",
          "evalue": "ignored",
          "traceback": [
            "\u001b[0;31m---------------------------------------------------------------------------\u001b[0m",
            "\u001b[0;31mParserError\u001b[0m                               Traceback (most recent call last)",
            "\u001b[0;32m<ipython-input-29-882979d7e986>\u001b[0m in \u001b[0;36m<module>\u001b[0;34m\u001b[0m\n\u001b[1;32m      1\u001b[0m \u001b[0;31m#Import dataset into a dataframe:\u001b[0m\u001b[0;34m\u001b[0m\u001b[0;34m\u001b[0m\u001b[0;34m\u001b[0m\u001b[0m\n\u001b[1;32m      2\u001b[0m \u001b[0;34m\u001b[0m\u001b[0m\n\u001b[0;32m----> 3\u001b[0;31m \u001b[0mdf\u001b[0m \u001b[0;34m=\u001b[0m \u001b[0mpd\u001b[0m\u001b[0;34m.\u001b[0m\u001b[0mread_csv\u001b[0m\u001b[0;34m(\u001b[0m\u001b[0;34m'training_set_rel3.csv'\u001b[0m\u001b[0;34m)\u001b[0m\u001b[0;34m\u001b[0m\u001b[0;34m\u001b[0m\u001b[0m\n\u001b[0m",
            "\u001b[0;32m/usr/local/lib/python3.7/dist-packages/pandas/util/_decorators.py\u001b[0m in \u001b[0;36mwrapper\u001b[0;34m(*args, **kwargs)\u001b[0m\n\u001b[1;32m    309\u001b[0m                     \u001b[0mstacklevel\u001b[0m\u001b[0;34m=\u001b[0m\u001b[0mstacklevel\u001b[0m\u001b[0;34m,\u001b[0m\u001b[0;34m\u001b[0m\u001b[0;34m\u001b[0m\u001b[0m\n\u001b[1;32m    310\u001b[0m                 )\n\u001b[0;32m--> 311\u001b[0;31m             \u001b[0;32mreturn\u001b[0m \u001b[0mfunc\u001b[0m\u001b[0;34m(\u001b[0m\u001b[0;34m*\u001b[0m\u001b[0margs\u001b[0m\u001b[0;34m,\u001b[0m \u001b[0;34m**\u001b[0m\u001b[0mkwargs\u001b[0m\u001b[0;34m)\u001b[0m\u001b[0;34m\u001b[0m\u001b[0;34m\u001b[0m\u001b[0m\n\u001b[0m\u001b[1;32m    312\u001b[0m \u001b[0;34m\u001b[0m\u001b[0m\n\u001b[1;32m    313\u001b[0m         \u001b[0;32mreturn\u001b[0m \u001b[0mwrapper\u001b[0m\u001b[0;34m\u001b[0m\u001b[0;34m\u001b[0m\u001b[0m\n",
            "\u001b[0;32m/usr/local/lib/python3.7/dist-packages/pandas/io/parsers/readers.py\u001b[0m in \u001b[0;36mread_csv\u001b[0;34m(filepath_or_buffer, sep, delimiter, header, names, index_col, usecols, squeeze, prefix, mangle_dupe_cols, dtype, engine, converters, true_values, false_values, skipinitialspace, skiprows, skipfooter, nrows, na_values, keep_default_na, na_filter, verbose, skip_blank_lines, parse_dates, infer_datetime_format, keep_date_col, date_parser, dayfirst, cache_dates, iterator, chunksize, compression, thousands, decimal, lineterminator, quotechar, quoting, doublequote, escapechar, comment, encoding, encoding_errors, dialect, error_bad_lines, warn_bad_lines, on_bad_lines, delim_whitespace, low_memory, memory_map, float_precision, storage_options)\u001b[0m\n\u001b[1;32m    584\u001b[0m     \u001b[0mkwds\u001b[0m\u001b[0;34m.\u001b[0m\u001b[0mupdate\u001b[0m\u001b[0;34m(\u001b[0m\u001b[0mkwds_defaults\u001b[0m\u001b[0;34m)\u001b[0m\u001b[0;34m\u001b[0m\u001b[0;34m\u001b[0m\u001b[0m\n\u001b[1;32m    585\u001b[0m \u001b[0;34m\u001b[0m\u001b[0m\n\u001b[0;32m--> 586\u001b[0;31m     \u001b[0;32mreturn\u001b[0m \u001b[0m_read\u001b[0m\u001b[0;34m(\u001b[0m\u001b[0mfilepath_or_buffer\u001b[0m\u001b[0;34m,\u001b[0m \u001b[0mkwds\u001b[0m\u001b[0;34m)\u001b[0m\u001b[0;34m\u001b[0m\u001b[0;34m\u001b[0m\u001b[0m\n\u001b[0m\u001b[1;32m    587\u001b[0m \u001b[0;34m\u001b[0m\u001b[0m\n\u001b[1;32m    588\u001b[0m \u001b[0;34m\u001b[0m\u001b[0m\n",
            "\u001b[0;32m/usr/local/lib/python3.7/dist-packages/pandas/io/parsers/readers.py\u001b[0m in \u001b[0;36m_read\u001b[0;34m(filepath_or_buffer, kwds)\u001b[0m\n\u001b[1;32m    486\u001b[0m \u001b[0;34m\u001b[0m\u001b[0m\n\u001b[1;32m    487\u001b[0m     \u001b[0;32mwith\u001b[0m \u001b[0mparser\u001b[0m\u001b[0;34m:\u001b[0m\u001b[0;34m\u001b[0m\u001b[0;34m\u001b[0m\u001b[0m\n\u001b[0;32m--> 488\u001b[0;31m         \u001b[0;32mreturn\u001b[0m \u001b[0mparser\u001b[0m\u001b[0;34m.\u001b[0m\u001b[0mread\u001b[0m\u001b[0;34m(\u001b[0m\u001b[0mnrows\u001b[0m\u001b[0;34m)\u001b[0m\u001b[0;34m\u001b[0m\u001b[0;34m\u001b[0m\u001b[0m\n\u001b[0m\u001b[1;32m    489\u001b[0m \u001b[0;34m\u001b[0m\u001b[0m\n\u001b[1;32m    490\u001b[0m \u001b[0;34m\u001b[0m\u001b[0m\n",
            "\u001b[0;32m/usr/local/lib/python3.7/dist-packages/pandas/io/parsers/readers.py\u001b[0m in \u001b[0;36mread\u001b[0;34m(self, nrows)\u001b[0m\n\u001b[1;32m   1045\u001b[0m     \u001b[0;32mdef\u001b[0m \u001b[0mread\u001b[0m\u001b[0;34m(\u001b[0m\u001b[0mself\u001b[0m\u001b[0;34m,\u001b[0m \u001b[0mnrows\u001b[0m\u001b[0;34m=\u001b[0m\u001b[0;32mNone\u001b[0m\u001b[0;34m)\u001b[0m\u001b[0;34m:\u001b[0m\u001b[0;34m\u001b[0m\u001b[0;34m\u001b[0m\u001b[0m\n\u001b[1;32m   1046\u001b[0m         \u001b[0mnrows\u001b[0m \u001b[0;34m=\u001b[0m \u001b[0mvalidate_integer\u001b[0m\u001b[0;34m(\u001b[0m\u001b[0;34m\"nrows\"\u001b[0m\u001b[0;34m,\u001b[0m \u001b[0mnrows\u001b[0m\u001b[0;34m)\u001b[0m\u001b[0;34m\u001b[0m\u001b[0;34m\u001b[0m\u001b[0m\n\u001b[0;32m-> 1047\u001b[0;31m         \u001b[0mindex\u001b[0m\u001b[0;34m,\u001b[0m \u001b[0mcolumns\u001b[0m\u001b[0;34m,\u001b[0m \u001b[0mcol_dict\u001b[0m \u001b[0;34m=\u001b[0m \u001b[0mself\u001b[0m\u001b[0;34m.\u001b[0m\u001b[0m_engine\u001b[0m\u001b[0;34m.\u001b[0m\u001b[0mread\u001b[0m\u001b[0;34m(\u001b[0m\u001b[0mnrows\u001b[0m\u001b[0;34m)\u001b[0m\u001b[0;34m\u001b[0m\u001b[0;34m\u001b[0m\u001b[0m\n\u001b[0m\u001b[1;32m   1048\u001b[0m \u001b[0;34m\u001b[0m\u001b[0m\n\u001b[1;32m   1049\u001b[0m         \u001b[0;32mif\u001b[0m \u001b[0mindex\u001b[0m \u001b[0;32mis\u001b[0m \u001b[0;32mNone\u001b[0m\u001b[0;34m:\u001b[0m\u001b[0;34m\u001b[0m\u001b[0;34m\u001b[0m\u001b[0m\n",
            "\u001b[0;32m/usr/local/lib/python3.7/dist-packages/pandas/io/parsers/c_parser_wrapper.py\u001b[0m in \u001b[0;36mread\u001b[0;34m(self, nrows)\u001b[0m\n\u001b[1;32m    222\u001b[0m         \u001b[0;32mtry\u001b[0m\u001b[0;34m:\u001b[0m\u001b[0;34m\u001b[0m\u001b[0;34m\u001b[0m\u001b[0m\n\u001b[1;32m    223\u001b[0m             \u001b[0;32mif\u001b[0m \u001b[0mself\u001b[0m\u001b[0;34m.\u001b[0m\u001b[0mlow_memory\u001b[0m\u001b[0;34m:\u001b[0m\u001b[0;34m\u001b[0m\u001b[0;34m\u001b[0m\u001b[0m\n\u001b[0;32m--> 224\u001b[0;31m                 \u001b[0mchunks\u001b[0m \u001b[0;34m=\u001b[0m \u001b[0mself\u001b[0m\u001b[0;34m.\u001b[0m\u001b[0m_reader\u001b[0m\u001b[0;34m.\u001b[0m\u001b[0mread_low_memory\u001b[0m\u001b[0;34m(\u001b[0m\u001b[0mnrows\u001b[0m\u001b[0;34m)\u001b[0m\u001b[0;34m\u001b[0m\u001b[0;34m\u001b[0m\u001b[0m\n\u001b[0m\u001b[1;32m    225\u001b[0m                 \u001b[0;31m# destructive to chunks\u001b[0m\u001b[0;34m\u001b[0m\u001b[0;34m\u001b[0m\u001b[0;34m\u001b[0m\u001b[0m\n\u001b[1;32m    226\u001b[0m                 \u001b[0mdata\u001b[0m \u001b[0;34m=\u001b[0m \u001b[0m_concatenate_chunks\u001b[0m\u001b[0;34m(\u001b[0m\u001b[0mchunks\u001b[0m\u001b[0;34m)\u001b[0m\u001b[0;34m\u001b[0m\u001b[0;34m\u001b[0m\u001b[0m\n",
            "\u001b[0;32m/usr/local/lib/python3.7/dist-packages/pandas/_libs/parsers.pyx\u001b[0m in \u001b[0;36mpandas._libs.parsers.TextReader.read_low_memory\u001b[0;34m()\u001b[0m\n",
            "\u001b[0;32m/usr/local/lib/python3.7/dist-packages/pandas/_libs/parsers.pyx\u001b[0m in \u001b[0;36mpandas._libs.parsers.TextReader._read_rows\u001b[0;34m()\u001b[0m\n",
            "\u001b[0;32m/usr/local/lib/python3.7/dist-packages/pandas/_libs/parsers.pyx\u001b[0m in \u001b[0;36mpandas._libs.parsers.TextReader._tokenize_rows\u001b[0;34m()\u001b[0m\n",
            "\u001b[0;32m/usr/local/lib/python3.7/dist-packages/pandas/_libs/parsers.pyx\u001b[0m in \u001b[0;36mpandas._libs.parsers.raise_parser_error\u001b[0;34m()\u001b[0m\n",
            "\u001b[0;31mParserError\u001b[0m: Error tokenizing data. C error: EOF inside string starting at row 6762"
          ]
        }
      ],
      "source": [
        "#Import dataset into a dataframe:\n",
        "\n",
        "df = pd.read_csv('training_set_rel3.csv')"
      ]
    },
    {
      "cell_type": "code",
      "execution_count": null,
      "id": "f2478ae0",
      "metadata": {
        "colab": {
          "base_uri": "https://localhost:8080/",
          "height": 171
        },
        "id": "f2478ae0",
        "outputId": "3bd564fa-ce00-4410-b895-bdda2f6e0a46"
      },
      "outputs": [
        {
          "output_type": "error",
          "ename": "NameError",
          "evalue": "ignored",
          "traceback": [
            "\u001b[0;31m---------------------------------------------------------------------------\u001b[0m",
            "\u001b[0;31mNameError\u001b[0m                                 Traceback (most recent call last)",
            "\u001b[0;32m<ipython-input-20-c453f18f7900>\u001b[0m in \u001b[0;36m<module>\u001b[0;34m\u001b[0m\n\u001b[0;32m----> 1\u001b[0;31m \u001b[0mdf\u001b[0m\u001b[0;34m.\u001b[0m\u001b[0mboxplot\u001b[0m\u001b[0;34m(\u001b[0m\u001b[0mcolumn\u001b[0m \u001b[0;34m=\u001b[0m \u001b[0;34m'domain1_score'\u001b[0m\u001b[0;34m,\u001b[0m \u001b[0mby\u001b[0m \u001b[0;34m=\u001b[0m \u001b[0;34m'essay_set'\u001b[0m\u001b[0;34m,\u001b[0m \u001b[0mfigsize\u001b[0m \u001b[0;34m=\u001b[0m \u001b[0;34m(\u001b[0m\u001b[0;36m10\u001b[0m\u001b[0;34m,\u001b[0m\u001b[0;36m10\u001b[0m\u001b[0;34m)\u001b[0m\u001b[0;34m)\u001b[0m\u001b[0;34m\u001b[0m\u001b[0;34m\u001b[0m\u001b[0m\n\u001b[0m",
            "\u001b[0;31mNameError\u001b[0m: name 'df' is not defined"
          ]
        }
      ],
      "source": [
        "df.boxplot(column = 'domain1_score', by = 'essay_set', figsize = (10,10))"
      ]
    },
    {
      "cell_type": "code",
      "execution_count": null,
      "id": "e8fc296d",
      "metadata": {
        "id": "e8fc296d"
      },
      "outputs": [],
      "source": [
        "# Get specific columns needed:\n",
        "\n",
        "data = df[['essay_set', 'essay', 'domain1_score']].copy()\n",
        "print(data)"
      ]
    },
    {
      "cell_type": "code",
      "execution_count": null,
      "id": "b93465c0",
      "metadata": {
        "id": "b93465c0"
      },
      "outputs": [],
      "source": [
        "#PRE-PROCESSING\n",
        "\n",
        "#To tokenize sentences into words:\n",
        "\n",
        "def sentenceToWordlist(rawSentence):\n",
        "    \n",
        "    cleanSentence = re.sub(\"[^a-zA-z0-9]\", \" \", rawSentence)\n",
        "    tokens = nltk.word_tokenize(cleanSentence)\n",
        "    \n",
        "    return tokens"
      ]
    },
    {
      "cell_type": "code",
      "execution_count": null,
      "id": "2b772236",
      "metadata": {
        "id": "2b772236"
      },
      "outputs": [],
      "source": [
        "#To tokenize essay to list of word lists:\n",
        "\n",
        "def tokenize(essay):\n",
        "    \n",
        "    strippedEssay = essay.strip()\n",
        "    \n",
        "    tokenizer = nltk.data.load('tokenizers/punkt/english.pickle')\n",
        "    rawSentences = tokenizer.tokenize(strippedEssay)\n",
        "    \n",
        "    tokenizedSentences = []\n",
        "    for rawSentence in rawSentences:\n",
        "        if len(rawSentence) > 0:\n",
        "            tokenizedSentences.append(sentenceToWordlist(rawSentence))\n",
        "            \n",
        "    return tokenizedSentences"
      ]
    },
    {
      "cell_type": "code",
      "execution_count": null,
      "id": "40c4709a",
      "metadata": {
        "id": "40c4709a"
      },
      "outputs": [],
      "source": [
        "# To calculate average word length in an essay:\n",
        "\n",
        "def avgWordLength(essay):\n",
        "    \n",
        "    cleanEssay = re.sub(r'\\W', ' ', essay)\n",
        "    words = nltk.word_tokenize(cleanEssay)\n",
        "    \n",
        "    return sum(len(word) for word in words) / len(words)"
      ]
    },
    {
      "cell_type": "code",
      "execution_count": null,
      "id": "fa0175b3",
      "metadata": {
        "id": "fa0175b3"
      },
      "outputs": [],
      "source": [
        "# To calculate number of words in an essay:\n",
        "\n",
        "def wordCount(essay):\n",
        "    \n",
        "    cleanEssay = re.sub(r'\\W', ' ', essay)\n",
        "    words = nltk.word_tokenize(cleanEssay)\n",
        "    \n",
        "    return len(words)"
      ]
    },
    {
      "cell_type": "code",
      "execution_count": null,
      "id": "33f0d715",
      "metadata": {
        "id": "33f0d715"
      },
      "outputs": [],
      "source": [
        "# To calculate number of characters in an essay:\n",
        "\n",
        "def charCount(essay):\n",
        "    \n",
        "    cleanEssay = re.sub(r'\\W', ' ', str(essay).lower())\n",
        "    \n",
        "    return len(cleanEssay)"
      ]
    },
    {
      "cell_type": "code",
      "execution_count": null,
      "id": "c2b60c1c",
      "metadata": {
        "id": "c2b60c1c"
      },
      "outputs": [],
      "source": [
        "# To calculate number of sentences in an essay:\n",
        "\n",
        "def sentCount(essay):\n",
        "    \n",
        "    sentences = nltk.sent_tokenize(essay)\n",
        "    \n",
        "    return len(sentences)"
      ]
    },
    {
      "cell_type": "code",
      "execution_count": null,
      "id": "9f9e245c",
      "metadata": {
        "id": "9f9e245c"
      },
      "outputs": [],
      "source": [
        "# To calculate number of lemmas per essay:\n",
        "\n",
        "def countLemma(essay):\n",
        "    \n",
        "    tokenizedSentences = tokenize(essay)\n",
        "    \n",
        "    lemmas = []\n",
        "    wordnetLemmatizer = WordNetLemmatizer()\n",
        "    \n",
        "    for sentence in tokenizedSentences:\n",
        "        taggedTokens = nltk.pos_tag(sentence)\n",
        "        \n",
        "        for tokenTuple in taggedTokens:\n",
        "            \n",
        "            pos_tag = tokenTuple[1]\n",
        "            \n",
        "            if pos_tag.startswith('N'):\n",
        "                pos = wordnet.NOUN\n",
        "                lemmas.append(wordnetLemmatizer.lemmatize(tokenTuple[0], pos))\n",
        "            elif pos_tag.startswith('J'):\n",
        "                pos = wordnet.ADJ #adjective\n",
        "                lemmas.append(wordnetLemmatizer.lemmatize(tokenTuple[0], pos))\n",
        "            elif pos_tag.startswith('V'):\n",
        "                pos = wordnet.VERB\n",
        "                lemmas.append(wordnetLemmatizer.lemmatize(tokenTuple[0], pos))   \n",
        "            elif pos_tag.startswith('R'):\n",
        "                pos = wordnet.ADV #adverb\n",
        "                lemmas.append(wordnetLemmatizer.lemmatize(tokenTuple[0], pos))\n",
        "            else:\n",
        "                pos = wordnet.NOUN\n",
        "                lemmas.append(wordnetLemmatizer.lemmatize(tokenTuple[0], pos))\n",
        "                \n",
        "    lemmaCount = len(set(lemmas))\n",
        "    \n",
        "    return lemmaCount"
      ]
    },
    {
      "cell_type": "code",
      "execution_count": null,
      "id": "cbd4132f",
      "metadata": {
        "id": "cbd4132f"
      },
      "outputs": [],
      "source": [
        "# To calculate number of nouns, adjectives, verbs and adverbs in an essay:\n",
        "\n",
        "def countPos(essay):\n",
        "    \n",
        "    tokenizedSentences = tokenize(essay)\n",
        "    \n",
        "    nounCount = 0\n",
        "    adjCount = 0\n",
        "    verbCount = 0\n",
        "    advCount = 0\n",
        "    \n",
        "    for sentence in tokenizedSentences:\n",
        "        taggedTokens = nltk.pos_tag(sentence)\n",
        "        \n",
        "        for tokenTuple in taggedTokens:\n",
        "            pos_tag = tokenTuple[1]\n",
        "                 \n",
        "            if pos_tag.startswith('N'):\n",
        "                nounCount +=1 \n",
        "            elif pos_tag.startswith('J'):\n",
        "                adjCount +=1 \n",
        "            elif pos_tag.startswith('V'):\n",
        "                verbCount +=1\n",
        "            elif pos_tag.startswith('R'):\n",
        "                advCount +=1\n",
        "                \n",
        "    return nounCount, adjCount, verbCount, advCount"
      ]
    },
    {
      "cell_type": "code",
      "execution_count": null,
      "id": "15161a76",
      "metadata": {
        "id": "15161a76"
      },
      "outputs": [],
      "source": [
        "# Vectorization:\n",
        "\n",
        "def getCountVectors(essays):\n",
        "    \n",
        "    vectorizer = CountVectorizer(max_features = 10000, ngram_range = (1, 3), stop_words = 'english')\n",
        "    \n",
        "    countVectors = vectorizer.fit_transform(essays)\n",
        "    \n",
        "    featureNames = vectorizer.get_feature_names_out()\n",
        "    \n",
        "    return featureNames, countVectors"
      ]
    },
    {
      "cell_type": "code",
      "execution_count": null,
      "id": "fc2a7339",
      "metadata": {
        "id": "fc2a7339",
        "colab": {
          "base_uri": "https://localhost:8080/",
          "height": 244
        },
        "outputId": "e05f5290-bc1b-41b7-b302-5cfe97366dc1"
      },
      "outputs": [
        {
          "output_type": "error",
          "ename": "NameError",
          "evalue": "ignored",
          "traceback": [
            "\u001b[0;31m---------------------------------------------------------------------------\u001b[0m",
            "\u001b[0;31mNameError\u001b[0m                                 Traceback (most recent call last)",
            "\u001b[0;32m<ipython-input-11-7f6938e3cc9b>\u001b[0m in \u001b[0;36m<module>\u001b[0;34m\u001b[0m\n\u001b[1;32m      1\u001b[0m \u001b[0;31m# To split data into train and test:\u001b[0m\u001b[0;34m\u001b[0m\u001b[0;34m\u001b[0m\u001b[0;34m\u001b[0m\u001b[0m\n\u001b[1;32m      2\u001b[0m \u001b[0;34m\u001b[0m\u001b[0m\n\u001b[0;32m----> 3\u001b[0;31m \u001b[0mfeatureNamesCV\u001b[0m\u001b[0;34m,\u001b[0m \u001b[0mcountVectors\u001b[0m \u001b[0;34m=\u001b[0m \u001b[0mgetCountVectors\u001b[0m\u001b[0;34m(\u001b[0m\u001b[0mdata\u001b[0m\u001b[0;34m[\u001b[0m\u001b[0mdata\u001b[0m\u001b[0;34m[\u001b[0m\u001b[0;34m'essay_set'\u001b[0m\u001b[0;34m]\u001b[0m \u001b[0;34m==\u001b[0m \u001b[0;36m2\u001b[0m\u001b[0;34m]\u001b[0m\u001b[0;34m[\u001b[0m\u001b[0;34m'essay'\u001b[0m\u001b[0;34m]\u001b[0m\u001b[0;34m)\u001b[0m\u001b[0;34m\u001b[0m\u001b[0;34m\u001b[0m\u001b[0m\n\u001b[0m\u001b[1;32m      4\u001b[0m \u001b[0;34m\u001b[0m\u001b[0m\n\u001b[1;32m      5\u001b[0m \u001b[0mxCV\u001b[0m \u001b[0;34m=\u001b[0m \u001b[0mcountVectors\u001b[0m\u001b[0;34m.\u001b[0m\u001b[0mtoarray\u001b[0m\u001b[0;34m(\u001b[0m\u001b[0;34m)\u001b[0m\u001b[0;34m\u001b[0m\u001b[0;34m\u001b[0m\u001b[0m\n",
            "\u001b[0;31mNameError\u001b[0m: name 'data' is not defined"
          ]
        }
      ],
      "source": [
        "# To split data into train and test: \n",
        "\n",
        "featureNamesCV, countVectors = getCountVectors(data[data['essay_set'] == 2]['essay'])\n",
        "\n",
        "xCV = countVectors.toarray()\n",
        "yCV = data[data['essay_set'] == 2]['domain1_score'].to_numpy() #replaced 'as.matrix()' w/ 'to_numpy()' bc of error\n",
        "\n",
        "x_train, x_test, y_train, y_test = train_test_split(xCV, yCV, test_size = 0.3)"
      ]
    },
    {
      "cell_type": "code",
      "source": [
        "# Random Forest Regression model (BOW):\n",
        "rf_func = ensemble.RandomForestRegressor\n",
        "\n",
        "rfRegressor = rf_func(n_estimators = 1000, random_state = 0)\n",
        "rfRegressor.fit(x_train, y_train)\n",
        "\n",
        "y_pred = rfRegressor.predict(x_test)\n",
        "\n",
        "print(\"Cohen's kappa score: %.2f\" % cohen_kappa_score(np.rint(y_pred), y_test))"
      ],
      "metadata": {
        "colab": {
          "base_uri": "https://localhost:8080/",
          "height": 244
        },
        "id": "Z4hwfgQxiPyy",
        "outputId": "f26ef2c5-c3c6-440b-d3e2-9565717960a5"
      },
      "id": "Z4hwfgQxiPyy",
      "execution_count": null,
      "outputs": [
        {
          "output_type": "error",
          "ename": "NameError",
          "evalue": "ignored",
          "traceback": [
            "\u001b[0;31m---------------------------------------------------------------------------\u001b[0m",
            "\u001b[0;31mNameError\u001b[0m                                 Traceback (most recent call last)",
            "\u001b[0;32m<ipython-input-12-46545f28627e>\u001b[0m in \u001b[0;36m<module>\u001b[0;34m\u001b[0m\n\u001b[1;32m      3\u001b[0m \u001b[0;34m\u001b[0m\u001b[0m\n\u001b[1;32m      4\u001b[0m \u001b[0mrfRegressor\u001b[0m \u001b[0;34m=\u001b[0m \u001b[0mrf_func\u001b[0m\u001b[0;34m(\u001b[0m\u001b[0mn_estimators\u001b[0m \u001b[0;34m=\u001b[0m \u001b[0;36m1000\u001b[0m\u001b[0;34m,\u001b[0m \u001b[0mrandom_state\u001b[0m \u001b[0;34m=\u001b[0m \u001b[0;36m0\u001b[0m\u001b[0;34m)\u001b[0m\u001b[0;34m\u001b[0m\u001b[0;34m\u001b[0m\u001b[0m\n\u001b[0;32m----> 5\u001b[0;31m \u001b[0mrfRegressor\u001b[0m\u001b[0;34m.\u001b[0m\u001b[0mfit\u001b[0m\u001b[0;34m(\u001b[0m\u001b[0mx_train\u001b[0m\u001b[0;34m,\u001b[0m \u001b[0my_train\u001b[0m\u001b[0;34m)\u001b[0m\u001b[0;34m\u001b[0m\u001b[0;34m\u001b[0m\u001b[0m\n\u001b[0m\u001b[1;32m      6\u001b[0m \u001b[0;34m\u001b[0m\u001b[0m\n\u001b[1;32m      7\u001b[0m \u001b[0my_pred\u001b[0m \u001b[0;34m=\u001b[0m \u001b[0mrfRegressor\u001b[0m\u001b[0;34m.\u001b[0m\u001b[0mpredict\u001b[0m\u001b[0;34m(\u001b[0m\u001b[0mx_test\u001b[0m\u001b[0;34m)\u001b[0m\u001b[0;34m\u001b[0m\u001b[0;34m\u001b[0m\u001b[0m\n",
            "\u001b[0;31mNameError\u001b[0m: name 'x_train' is not defined"
          ]
        }
      ]
    },
    {
      "cell_type": "code",
      "execution_count": null,
      "id": "52d9dd0e",
      "metadata": {
        "id": "52d9dd0e"
      },
      "outputs": [],
      "source": [
        "# Linear Regression model (BOW):\n",
        "\n",
        "linearRegressor = LinearRegression()\n",
        "linearRegressor.fit(x_train, y_train)\n",
        "\n",
        "y_pred = linearRegressor.predict(x_test)\n",
        "\n",
        "print('Cohen\\'s kappa score: %.2f' % cohen_kappa_score(np.rint(y_pred), y_test))"
      ]
    },
    {
      "cell_type": "code",
      "execution_count": null,
      "id": "a042a720",
      "metadata": {
        "colab": {
          "base_uri": "https://localhost:8080/"
        },
        "id": "a042a720",
        "outputId": "4d7d71ca-8ead-458a-d00f-7633386019ce"
      },
      "outputs": [
        {
          "output_type": "stream",
          "name": "stdout",
          "text": [
            "Cohen's kappa score: 0.39\n"
          ]
        }
      ],
      "source": [
        "# Lasso Regression model (BOW):\n",
        "\n",
        "alphas = np.array([3, 1, 0.3, 0.1, 0.03, 0.01])\n",
        "\n",
        "lassoRegressor = Lasso()\n",
        "\n",
        "grid = GridSearchCV(estimator = lassoRegressor, param_grid = dict(alpha = alphas))\n",
        "grid.fit(x_train, y_train)\n",
        "\n",
        "y_pred = grid.predict(x_test)\n",
        "\n",
        "print('Cohen\\'s kappa score: %.2f' % cohen_kappa_score(np.rint(y_pred), y_test))"
      ]
    },
    {
      "cell_type": "code",
      "execution_count": null,
      "id": "a7af9ab8",
      "metadata": {
        "id": "a7af9ab8"
      },
      "outputs": [],
      "source": [
        "# To extract features of the essay:\n",
        "\n",
        "def extractFeatures(data):\n",
        "    \n",
        "    features = data.copy()\n",
        "    \n",
        "    features['charCount'] = features['essay'].apply(charCount)\n",
        "    features['wordCount'] = features['essay'].apply(wordCount)\n",
        "    features['sentCount'] = features['essay'].apply(sentCount)\n",
        "    features['avgWordLength'] = features['essay'].apply(avgWordLength)\n",
        "    features['countLemma'] = features['essay'].apply(countLemma)\n",
        "    features['nounCount'], features['adjCount'], features['verbCount'], features['advCount'] = zip(*features['essay'].map(countPos))\n",
        "    \n",
        "    return features"
      ]
    },
    {
      "cell_type": "code",
      "execution_count": null,
      "id": "d687f889",
      "metadata": {
        "colab": {
          "base_uri": "https://localhost:8080/"
        },
        "id": "d687f889",
        "outputId": "31c45306-2da0-470d-da26-5f077558b63b"
      },
      "outputs": [
        {
          "output_type": "stream",
          "name": "stdout",
          "text": [
            "      essay_set                                              essay  \\\n",
            "1783          2  Certain materials being removed from libraries...   \n",
            "1784          2  Write a persuasive essay to a newspaper reflec...   \n",
            "1785          2  Do you think that libraries should remove cert...   \n",
            "1786          2  In @DATE1's world, there are many things found...   \n",
            "1787          2  In life you have the 'offensive things'. The l...   \n",
            "...         ...                                                ...   \n",
            "3578          2  The author is writting about taking books off ...   \n",
            "3579          2  I do not think that materials, such as books, ...   \n",
            "3580          2  Yes we should keep the books,music,movies,an m...   \n",
            "3581          2  I do believe that  book, magazines, music, mov...   \n",
            "3582          2  Different Then Everyone Else     @CAPS1 do peo...   \n",
            "\n",
            "      domain1_score  charCount  wordCount  sentCount  avgWordLength  \\\n",
            "1783            4.0       2630        486         19       4.279835   \n",
            "1784            1.0        852        170          3       3.841176   \n",
            "1785            2.0       1158        227         15       3.898678   \n",
            "1786            4.0       2685        470         31       4.512766   \n",
            "1787            4.0       2373        431         35       4.236659   \n",
            "...             ...        ...        ...        ...            ...   \n",
            "3578            3.0       1311        271         12       3.726937   \n",
            "3579            3.0       1342        248         16       4.254032   \n",
            "3580            2.0        591        118          5       3.923729   \n",
            "3581            3.0       2716        510         23       4.174510   \n",
            "3582            3.0       2455        490         15       3.893878   \n",
            "\n",
            "      countLemma  nounCount  adjCount  verbCount  advCount  \n",
            "1783         187        127        34         95        32  \n",
            "1784          80         38        15         46         6  \n",
            "1785         116         57        17         45        15  \n",
            "1786         168         99        28        122        30  \n",
            "1787         205        109        29         93        30  \n",
            "...          ...        ...       ...        ...       ...  \n",
            "3578         101         65        19         66        15  \n",
            "3579         120         65        22         48        17  \n",
            "3580          64         30         3         22         5  \n",
            "3581         156        125        26        121        31  \n",
            "3582         155        106        45         91        28  \n",
            "\n",
            "[1800 rows x 12 columns]\n"
          ]
        }
      ],
      "source": [
        "# To extract features from essay set 2: \n",
        "\n",
        "featuresSet2 = extractFeatures(data[data['essay_set'] == 2])\n",
        "\n",
        "print(featuresSet2)"
      ]
    },
    {
      "cell_type": "code",
      "execution_count": null,
      "id": "6a3f879a",
      "metadata": {
        "colab": {
          "base_uri": "https://localhost:8080/",
          "height": 1000
        },
        "id": "6a3f879a",
        "outputId": "b3421c80-ce29-43e5-abcf-1e6aa4804453"
      },
      "outputs": [
        {
          "output_type": "execute_result",
          "data": {
            "text/plain": [
              "<matplotlib.axes._subplots.AxesSubplot at 0x7fbc5b7c6350>"
            ]
          },
          "metadata": {},
          "execution_count": 19
        },
        {
          "output_type": "display_data",
          "data": {
            "text/plain": [
              "<Figure size 432x288 with 1 Axes>"
            ],
            "image/png": "[encoded data removed]"
          },
          "metadata": {
            "needs_background": "light"
          }
        },
        {
          "output_type": "display_data",
          "data": {
            "text/plain": [
              "<Figure size 432x288 with 1 Axes>"
            ],
            "image/png": "[encoded data removed]"
          },
          "metadata": {
            "needs_background": "light"
          }
        },
        {
          "output_type": "display_data",
          "data": {
            "text/plain": [
              "<Figure size 432x288 with 1 Axes>"
            ],
            "image/png": "[encoded data removed]"
          },
          "metadata": {
            "needs_background": "light"
          }
        },
        {
          "output_type": "display_data",
          "data": {
            "text/plain": [
              "<Figure size 432x288 with 1 Axes>"
            ],
            "image/png": "[encoded data removed]"
          },
          "metadata": {
            "needs_background": "light"
          }
        },
        {
          "output_type": "display_data",
          "data": {
            "text/plain": [
              "<Figure size 432x288 with 1 Axes>"
            ],
            "image/png": "[encoded data removed]"
          },
          "metadata": {
            "needs_background": "light"
          }
        },
        {
          "output_type": "display_data",
          "data": {
            "text/plain": [
              "<Figure size 432x288 with 1 Axes>"
            ],
            "image/png": "[encoded data removed]"
          },
          "metadata": {
            "needs_background": "light"
          }
        },
        {
          "output_type": "display_data",
          "data": {
            "text/plain": [
              "<Figure size 432x288 with 1 Axes>"
            ],
            "image/png": "[encoded data removed]"
          },
          "metadata": {
            "needs_background": "light"
          }
        },
        {
          "output_type": "display_data",
          "data": {
            "text/plain": [
              "<Figure size 432x288 with 1 Axes>"
            ],
            "image/png": "[encoded data removed]"
          },
          "metadata": {
            "needs_background": "light"
          }
        },
        {
          "output_type": "display_data",
          "data": {
            "text/plain": [
              "<Figure size 432x288 with 1 Axes>"
            ],
            "image/png": "[encoded data removed]"
          },
          "metadata": {
            "needs_background": "light"
          }
        }
      ],
      "source": [
        "#EXPLORATORY DATA ANALYSIS (EDA)\n",
        "\n",
        "# Scatterplot diagrams: \n",
        "\n",
        "featuresSet2.plot.scatter(x = 'charCount', y = 'domain1_score', s = 10, c = 'pink')\n",
        "featuresSet2.plot.scatter(x = 'wordCount', y = 'domain1_score', s = 10, c = 'pink')\n",
        "featuresSet2.plot.scatter(x = 'sentCount', y = 'domain1_score', s = 10, c = 'pink')\n",
        "featuresSet2.plot.scatter(x = 'avgWordLength', y = 'domain1_score', s = 10, c = 'pink')\n",
        "featuresSet2.plot.scatter(x = 'countLemma', y = 'domain1_score', s = 10, c = 'pink')\n",
        "featuresSet2.plot.scatter(x = 'nounCount', y = 'domain1_score', s = 10, c = 'pink')\n",
        "featuresSet2.plot.scatter(x = 'adjCount', y = 'domain1_score', s = 10, c = 'pink')\n",
        "featuresSet2.plot.scatter(x = 'verbCount', y = 'domain1_score', s = 10, c = 'pink')\n",
        "featuresSet2.plot.scatter(x = 'advCount', y = 'domain1_score', s = 10, c = 'pink')"
      ]
    },
    {
      "cell_type": "code",
      "execution_count": null,
      "id": "5157b335",
      "metadata": {
        "id": "5157b335",
        "colab": {
          "base_uri": "https://localhost:8080/",
          "height": 244
        },
        "outputId": "1661f90b-0112-4bda-ad90-1740f1e8528e"
      },
      "outputs": [
        {
          "output_type": "error",
          "ename": "NameError",
          "evalue": "ignored",
          "traceback": [
            "\u001b[0;31m---------------------------------------------------------------------------\u001b[0m",
            "\u001b[0;31mNameError\u001b[0m                                 Traceback (most recent call last)",
            "\u001b[0;32m<ipython-input-2-bba7c437c4c4>\u001b[0m in \u001b[0;36m<module>\u001b[0;34m\u001b[0m\n\u001b[1;32m      1\u001b[0m \u001b[0;31m# To split data for BOW + the rest of the features:\u001b[0m\u001b[0;34m\u001b[0m\u001b[0;34m\u001b[0m\u001b[0;34m\u001b[0m\u001b[0m\n\u001b[1;32m      2\u001b[0m \u001b[0;34m\u001b[0m\u001b[0m\n\u001b[0;32m----> 3\u001b[0;31m \u001b[0mx\u001b[0m \u001b[0;34m=\u001b[0m \u001b[0mnp\u001b[0m\u001b[0;34m.\u001b[0m\u001b[0mconcatenate\u001b[0m\u001b[0;34m(\u001b[0m\u001b[0;34m(\u001b[0m\u001b[0mfeaturesSet2\u001b[0m\u001b[0;34m.\u001b[0m\u001b[0miloc\u001b[0m\u001b[0;34m[\u001b[0m\u001b[0;34m:\u001b[0m\u001b[0;34m,\u001b[0m \u001b[0;36m3\u001b[0m\u001b[0;34m:\u001b[0m\u001b[0;34m]\u001b[0m\u001b[0;34m.\u001b[0m\u001b[0mto_numpy\u001b[0m\u001b[0;34m(\u001b[0m\u001b[0;34m)\u001b[0m\u001b[0;34m,\u001b[0m \u001b[0mxCV\u001b[0m\u001b[0;34m)\u001b[0m\u001b[0;34m,\u001b[0m \u001b[0maxis\u001b[0m \u001b[0;34m=\u001b[0m \u001b[0;36m1\u001b[0m\u001b[0;34m)\u001b[0m\u001b[0;34m\u001b[0m\u001b[0;34m\u001b[0m\u001b[0m\n\u001b[0m\u001b[1;32m      4\u001b[0m \u001b[0my\u001b[0m \u001b[0;34m=\u001b[0m \u001b[0mfeaturesSet2\u001b[0m\u001b[0;34m[\u001b[0m\u001b[0;34m'domain1_score'\u001b[0m\u001b[0;34m]\u001b[0m\u001b[0;34m.\u001b[0m\u001b[0mto_numpy\u001b[0m\u001b[0;34m(\u001b[0m\u001b[0;34m)\u001b[0m\u001b[0;34m\u001b[0m\u001b[0;34m\u001b[0m\u001b[0m\n\u001b[1;32m      5\u001b[0m \u001b[0;34m\u001b[0m\u001b[0m\n",
            "\u001b[0;31mNameError\u001b[0m: name 'np' is not defined"
          ]
        }
      ],
      "source": [
        "# To split data for BOW + the rest of the features:\n",
        "\n",
        "x = np.concatenate((featuresSet2.iloc[:, 3:].to_numpy(), xCV), axis = 1)\n",
        "y = featuresSet2['domain1_score'].to_numpy()\n",
        "\n",
        "x_train, x_test, y_train, y_test = train_test_split(x, y, test_size = 0.3)"
      ]
    },
    {
      "cell_type": "code",
      "source": [
        "# Random Forest Regression model (BOW + other features):\n",
        "rf_func = ensemble.RandomForestRegressor\n",
        "\n",
        "rfRegressor = rf_func(n_estimators = 1000, random_state = 0)\n",
        "rfRegressor.fit(x_train, y_train)\n",
        "\n",
        "y_pred = rfRegressor.predict(x_test)\n",
        "\n",
        "print(\"Cohen's kappa score: %.2f\" % cohen_kappa_score(np.rint(y_pred), y_test))"
      ],
      "metadata": {
        "colab": {
          "base_uri": "https://localhost:8080/"
        },
        "id": "1VeAca7Dh-jZ",
        "outputId": "e06ee270-6699-4662-aed3-197b80187935"
      },
      "id": "1VeAca7Dh-jZ",
      "execution_count": null,
      "outputs": [
        {
          "output_type": "stream",
          "name": "stdout",
          "text": [
            "Cohen's kappa score: 0.51\n"
          ]
        }
      ]
    },
    {
      "cell_type": "code",
      "source": [
        "# Support Vector Regression model (only 10 numerical/POS/orthographic features):\n",
        "\n",
        "svr = SVR()\n",
        "parameters = {'kernel':['linear', 'rbf'], 'C':[1, 100], 'gamma':[0.1, 0.001]}\n",
        "\n",
        "grid = GridSearchCV(svr, parameters)\n",
        "grid.fit(x_train, y_train)\n",
        "\n",
        "y_pred = grid.predict(x_test)\n",
        "\n",
        "print('Cohen\\'s kappa score: %.2f' % cohen_kappa_score(np.rint(y_pred), y_test))"
      ],
      "metadata": {
        "colab": {
          "base_uri": "https://localhost:8080/",
          "height": 244
        },
        "id": "IaF_rSei5Uj3",
        "outputId": "eed5eccc-9a0c-4361-bc74-6cc4863b30ec"
      },
      "id": "IaF_rSei5Uj3",
      "execution_count": null,
      "outputs": [
        {
          "output_type": "error",
          "ename": "NameError",
          "evalue": "ignored",
          "traceback": [
            "\u001b[0;31m---------------------------------------------------------------------------\u001b[0m",
            "\u001b[0;31mNameError\u001b[0m                                 Traceback (most recent call last)",
            "\u001b[0;32m<ipython-input-1-66b4d422a913>\u001b[0m in \u001b[0;36m<module>\u001b[0;34m\u001b[0m\n\u001b[1;32m      1\u001b[0m \u001b[0;31m# Support Vector Regression model (only 10 numerical/POS/orthographic features):\u001b[0m\u001b[0;34m\u001b[0m\u001b[0;34m\u001b[0m\u001b[0;34m\u001b[0m\u001b[0m\n\u001b[1;32m      2\u001b[0m \u001b[0;34m\u001b[0m\u001b[0m\n\u001b[0;32m----> 3\u001b[0;31m \u001b[0msvr\u001b[0m \u001b[0;34m=\u001b[0m \u001b[0mSVR\u001b[0m\u001b[0;34m(\u001b[0m\u001b[0;34m)\u001b[0m\u001b[0;34m\u001b[0m\u001b[0;34m\u001b[0m\u001b[0m\n\u001b[0m\u001b[1;32m      4\u001b[0m \u001b[0mparameters\u001b[0m \u001b[0;34m=\u001b[0m \u001b[0;34m{\u001b[0m\u001b[0;34m'kernel'\u001b[0m\u001b[0;34m:\u001b[0m\u001b[0;34m[\u001b[0m\u001b[0;34m'linear'\u001b[0m\u001b[0;34m,\u001b[0m \u001b[0;34m'rbf'\u001b[0m\u001b[0;34m]\u001b[0m\u001b[0;34m,\u001b[0m \u001b[0;34m'C'\u001b[0m\u001b[0;34m:\u001b[0m\u001b[0;34m[\u001b[0m\u001b[0;36m1\u001b[0m\u001b[0;34m,\u001b[0m \u001b[0;36m100\u001b[0m\u001b[0;34m]\u001b[0m\u001b[0;34m,\u001b[0m \u001b[0;34m'gamma'\u001b[0m\u001b[0;34m:\u001b[0m\u001b[0;34m[\u001b[0m\u001b[0;36m0.1\u001b[0m\u001b[0;34m,\u001b[0m \u001b[0;36m0.001\u001b[0m\u001b[0;34m]\u001b[0m\u001b[0;34m}\u001b[0m\u001b[0;34m\u001b[0m\u001b[0;34m\u001b[0m\u001b[0m\n\u001b[1;32m      5\u001b[0m \u001b[0;34m\u001b[0m\u001b[0m\n",
            "\u001b[0;31mNameError\u001b[0m: name 'SVR' is not defined"
          ]
        }
      ]
    },
    {
      "cell_type": "code",
      "execution_count": null,
      "id": "fb42201d",
      "metadata": {
        "colab": {
          "base_uri": "https://localhost:8080/"
        },
        "id": "fb42201d",
        "outputId": "7dcd73a5-688c-4ad6-822f-3cf5e37584d4"
      },
      "outputs": [
        {
          "output_type": "stream",
          "name": "stdout",
          "text": [
            "Cohen's kappa score: 0.30\n"
          ]
        }
      ],
      "source": [
        "# Linear Regression model (BOW + other features):\n",
        "\n",
        "linearRegressor = LinearRegression()\n",
        "linearRegressor.fit(x_train, y_train)\n",
        "\n",
        "y_pred = linearRegressor.predict(x_test)\n",
        "\n",
        "print('Cohen\\'s kappa score: %.2f' % cohen_kappa_score(np.rint(y_pred), y_test))"
      ]
    },
    {
      "cell_type": "code",
      "execution_count": null,
      "id": "279237ab",
      "metadata": {
        "colab": {
          "base_uri": "https://localhost:8080/"
        },
        "id": "279237ab",
        "outputId": "20cb7b42-7533-44bb-a8e9-16f6fab3f267"
      },
      "outputs": [
        {
          "output_type": "stream",
          "name": "stdout",
          "text": [
            "Cohen's kappa score: 0.31\n"
          ]
        }
      ],
      "source": [
        "# Ridge Regression model (BOW + other features):\n",
        "\n",
        "alphas = np.array([3, 1, 0.3, 0.1])\n",
        "\n",
        "ridgeRegressor = Ridge()\n",
        "\n",
        "grid = GridSearchCV(estimator = ridgeRegressor, param_grid = dict(alpha = alphas))\n",
        "grid.fit(x_train, y_train)\n",
        "\n",
        "y_pred = grid.predict(x_test)\n",
        "\n",
        "print('Cohen\\'s kappa score: %.2f' % cohen_kappa_score(np.rint(y_pred), y_test))"
      ]
    },
    {
      "cell_type": "code",
      "execution_count": null,
      "id": "9a2575b8",
      "metadata": {
        "colab": {
          "base_uri": "https://localhost:8080/"
        },
        "id": "9a2575b8",
        "outputId": "37837c3c-b76c-4902-c781-8dc94fe7fb54"
      },
      "outputs": [
        {
          "output_type": "stream",
          "name": "stderr",
          "text": [
            "/usr/local/lib/python3.7/dist-packages/sklearn/linear_model/_coordinate_descent.py:648: ConvergenceWarning: Objective did not converge. You might want to increase the number of iterations, check the scale of the features or consider increasing regularisation. Duality gap: 6.593e-02, tolerance: 6.073e-02\n",
            "  coef_, l1_reg, l2_reg, X, y, max_iter, tol, rng, random, positive\n"
          ]
        },
        {
          "output_type": "stream",
          "name": "stdout",
          "text": [
            "Cohen's kappa score: 0.41\n"
          ]
        }
      ],
      "source": [
        "# Lasso Regression model (BOW + other features):\n",
        "\n",
        "alphas = np.array([3, 1, 0.3, 0.1])\n",
        "\n",
        "lassoRegressor = Lasso()\n",
        "\n",
        "grid = GridSearchCV(estimator = lassoRegressor, param_grid = dict(alpha = alphas))\n",
        "grid.fit(x_train, y_train)\n",
        "\n",
        "y_pred = grid.predict(x_test)\n",
        "\n",
        "print('Cohen\\'s kappa score: %.2f' % cohen_kappa_score(np.rint(y_pred), y_test))"
      ]
    },
    {
      "cell_type": "code",
      "execution_count": null,
      "id": "ccddbef1",
      "metadata": {
        "id": "ccddbef1"
      },
      "outputs": [],
      "source": [
        "# To split data for only 10 numerical/POS/orthographic features:\n",
        "\n",
        "x = featuresSet2.iloc[:, 3:].to_numpy()\n",
        "y = featuresSet2['domain1_score'].to_numpy()\n",
        "\n",
        "x_train, x_test, y_train, y_test = train_test_split(x, y, test_size = 0.3)"
      ]
    },
    {
      "cell_type": "code",
      "execution_count": null,
      "id": "958afe09",
      "metadata": {
        "colab": {
          "base_uri": "https://localhost:8080/"
        },
        "id": "958afe09",
        "outputId": "7905c23a-5135-4195-fcbf-9f72468e022e"
      },
      "outputs": [
        {
          "output_type": "stream",
          "name": "stdout",
          "text": [
            "Cohen's kappa score: 0.47\n"
          ]
        }
      ],
      "source": [
        "# Linear Regression model (only 10 numerical/POS/orthographic features):\n",
        "\n",
        "linearRegressor = LinearRegression()\n",
        "linearRegressor.fit(x_train, y_train)\n",
        "\n",
        "y_pred = linearRegressor.predict(x_test)\n",
        "\n",
        "print('Cohen\\'s kappa score: %.2f' % cohen_kappa_score(np.rint(y_pred), y_test))"
      ]
    },
    {
      "cell_type": "code",
      "execution_count": null,
      "id": "90d0f6e6",
      "metadata": {
        "colab": {
          "base_uri": "https://localhost:8080/"
        },
        "id": "90d0f6e6",
        "outputId": "fd8c5c65-3a96-4e34-e709-ce2957c89675"
      },
      "outputs": [
        {
          "output_type": "stream",
          "name": "stdout",
          "text": [
            "Cohen's kappa score: 0.47\n"
          ]
        }
      ],
      "source": [
        "# Ridge Regression model (only 10 numerical/POS/orthographic features):\n",
        "\n",
        "alphas = np.array([3, 1, 0.3, 0.1, 0.03, 0.01, 0.003, 0.001])\n",
        "\n",
        "ridgeRegressor = Ridge()\n",
        "\n",
        "grid = GridSearchCV(estimator = ridgeRegressor, param_grid = dict(alpha = alphas))\n",
        "grid.fit(x_train, y_train)\n",
        "\n",
        "y_pred = grid.predict(x_test)\n",
        "\n",
        "print('Cohen\\'s kappa score: %.2f' % cohen_kappa_score(np.rint(y_pred), y_test))"
      ]
    },
    {
      "cell_type": "code",
      "execution_count": null,
      "id": "e9f09b17",
      "metadata": {
        "colab": {
          "base_uri": "https://localhost:8080/"
        },
        "id": "e9f09b17",
        "outputId": "ed57e075-dfd6-4707-be88-0e3ae4c7de3a"
      },
      "outputs": [
        {
          "output_type": "stream",
          "name": "stdout",
          "text": [
            "Cohen's kappa score: 0.47\n"
          ]
        }
      ],
      "source": [
        "# Lasso Regression model (only 10 numerical/POS/orthographic features):\n",
        "\n",
        "alphas = np.array([3, 1, 0.3, 0.1, 0.3])\n",
        "\n",
        "lassoRegressor = Lasso()\n",
        "\n",
        "grid = GridSearchCV(estimator = lassoRegressor, param_grid = dict(alpha = alphas))\n",
        "grid.fit(x_train, y_train)\n",
        "\n",
        "y_pred = grid.predict(x_test)\n",
        "\n",
        "print('Cohen\\'s kappa score: %.2f' % cohen_kappa_score(np.rint(y_pred), y_test))"
      ]
    },
    {
      "cell_type": "code",
      "execution_count": null,
      "id": "0d51f36e",
      "metadata": {
        "colab": {
          "base_uri": "https://localhost:8080/"
        },
        "id": "0d51f36e",
        "outputId": "35e87f3b-c8f2-4a02-8c89-ba435cc307af"
      },
      "outputs": [
        {
          "output_type": "stream",
          "name": "stdout",
          "text": [
            "Cohen's kappa score: 0.41\n"
          ]
        }
      ],
      "source": [
        "# Support Vector Regression model (only 10 numerical/POS/orthographic features):\n",
        "\n",
        "svr = SVR()\n",
        "parameters = {'kernel':['linear', 'rbf'], 'C':[1, 100], 'gamma':[0.1, 0.001]}\n",
        "\n",
        "grid = GridSearchCV(svr, parameters)\n",
        "grid.fit(x_train, y_train)\n",
        "\n",
        "y_pred = grid.predict(x_test)\n",
        "\n",
        "print('Cohen\\'s kappa score: %.2f' % cohen_kappa_score(np.rint(y_pred), y_test))"
      ]
    },
    {
      "cell_type": "code",
      "source": [
        "# Random Forest Regression model (only 10 numerical/POS/orthographic features):\n",
        "rf_func = ensemble.RandomForestRegressor\n",
        "\n",
        "rfRegressor = rf_func(n_estimators = 1000, random_state = 0)\n",
        "rfRegressor.fit(x_train, y_train)\n",
        "\n",
        "y_pred = rfRegressor.predict(x_test)\n",
        "\n",
        "print(\"Cohen's kappa score: %.2f\" % cohen_kappa_score(np.rint(y_pred), y_test))"
      ],
      "metadata": {
        "colab": {
          "base_uri": "https://localhost:8080/"
        },
        "id": "46roYixYSds1",
        "outputId": "5ea70e47-3669-4ce3-efa7-49e32f41f570"
      },
      "id": "46roYixYSds1",
      "execution_count": null,
      "outputs": [
        {
          "output_type": "stream",
          "name": "stdout",
          "text": [
            "Cohen's kappa score: 0.49\n"
          ]
        }
      ]
    }
  ],
  "metadata": {
    "kernelspec": {
      "display_name": "Python 3 (ipykernel)",
      "language": "python",
      "name": "python3"
    },
    "language_info": {
      "codemirror_mode": {
        "name": "ipython",
        "version": 3
      },
      "file_extension": ".py",
      "mimetype": "text/x-python",
      "name": "python",
      "nbconvert_exporter": "python",
      "pygments_lexer": "ipython3",
      "version": "3.9.7"
    },
    "colab": {
      "provenance": [],
      "collapsed_sections": [],
      "include_colab_link": true
    }
  },
  "nbformat": 4,
  "nbformat_minor": 5
}